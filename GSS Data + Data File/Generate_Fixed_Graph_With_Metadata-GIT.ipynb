{
 "cells": [
  {
   "cell_type": "code",
   "execution_count": 8,
   "id": "a8e20d60",
   "metadata": {},
   "outputs": [
    {
     "name": "stdout",
     "output_type": "stream",
     "text": [
      "Graph saved with 282 nodes and 14374 edges and 101.94326241134752 average degree.\n"
     ]
    }
   ],
   "source": [
    "\n",
    "import numpy as np\n",
    "import networkx as nx\n",
    "import pandas as pd\n",
    "import pickle\n",
    "\n",
    "# data\n",
    "df = pd.read_csv(\"df_normalizedcleanfinalscaled.csv\")\n",
    "opinion_cols1 = [\"affrmact_norm1b\", \"gunlaw_norm1b\", \"partyid_norm1b\"]\n",
    "opinion_cols2 = [\"affrmact_norm2\", \"gunlaw_norm2\", \"partyid_norm2\"]\n",
    "df_clean = df.dropna(subset=opinion_cols1+opinion_cols2)\n",
    "A_initial = df_clean[opinion_cols1].values\n",
    "A_final = df_clean[opinion_cols2].values\n",
    "N = A_initial.shape[0]\n",
    "lambda_val = 0.5\n",
    "\n",
    "#graph using prob of similarity\n",
    "prob_matrix = np.zeros((N, N))\n",
    "for i in range(N):\n",
    "    for j in range(i + 1, N):\n",
    "        dist = np.linalg.norm(A_initial[i] - A_initial[j])**2\n",
    "        prob_matrix[i, j] = np.exp(-dist / (4 * lambda_val))\n",
    "        prob_matrix[j, i] = prob_matrix[i, j]\n",
    "\n",
    "G = nx.Graph()\n",
    "G.add_nodes_from(range(N))\n",
    "rng = np.random.default_rng(42)\n",
    "for i in range(N):\n",
    "    for j in range(i + 1, N):\n",
    "        if rng.random() < prob_matrix[i, j]:\n",
    "            G.add_edge(i, j)\n",
    "\n",
    "#saving\n",
    "with open(\"fixed_graph.pkl\", \"wb\") as f:\n",
    "    pickle.dump(G, f)\n",
    "#for verification\n",
    "print(f\"Graph saved with {G.number_of_nodes()} nodes and {G.number_of_edges()} edges and {np.mean([d for _, d in G.degree()])} average degree.\")\n"
   ]
  },
  {
   "cell_type": "code",
   "execution_count": 9,
   "id": "748acd3d",
   "metadata": {},
   "outputs": [],
   "source": [
    "\n",
    "#individual's yearid and opinion vector in the graph for access\n",
    "year_ids = df_clean['yearid'].values\n",
    "for i in range(N):\n",
    "    G.add_node(i, yearid=year_ids[i], initial_opinion=A_initial[i])\n"
   ]
  },
  {
   "cell_type": "code",
   "execution_count": 10,
   "id": "8940291b",
   "metadata": {},
   "outputs": [
    {
     "name": "stdout",
     "output_type": "stream",
     "text": [
      "Saved node-to-yearid mapping to 'node_yearid_mapping.csv'\n"
     ]
    }
   ],
   "source": [
    "\n",
    "#node-to-yearid mapping and initial opinions for for access\n",
    "node_info = pd.DataFrame({\n",
    "    \"node_id\": list(G.nodes),\n",
    "    \"yearid\": [G.nodes[n][\"yearid\"] for n in G.nodes],\n",
    "    \"initial_affirm\": [G.nodes[n][\"initial_opinion\"][0] for n in G.nodes],\n",
    "    \"initial_gunlaw\": [G.nodes[n][\"initial_opinion\"][1] for n in G.nodes],\n",
    "    \"initial_party\": [G.nodes[n][\"initial_opinion\"][2] for n in G.nodes],\n",
    "})\n",
    "node_info.to_csv(\"[DIRECTORY]/node_yearid_mapping.csv\", index=False)"
   ]
  }
 ],
 "metadata": {
  "kernelspec": {
   "display_name": "Python 3 (ipykernel)",
   "language": "python",
   "name": "python3"
  },
  "language_info": {
   "codemirror_mode": {
    "name": "ipython",
    "version": 3
   },
   "file_extension": ".py",
   "mimetype": "text/x-python",
   "name": "python",
   "nbconvert_exporter": "python",
   "pygments_lexer": "ipython3",
   "version": "3.9.7"
  }
 },
 "nbformat": 4,
 "nbformat_minor": 5
}
