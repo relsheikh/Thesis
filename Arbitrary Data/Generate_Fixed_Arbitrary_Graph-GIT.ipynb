{
 "cells": [
  {
   "cell_type": "code",
   "execution_count": 5,
   "id": "169b2a7b",
   "metadata": {},
   "outputs": [
    {
     "name": "stdout",
     "output_type": "stream",
     "text": [
      "Saved fixed arbitrary graph and initial opinions.\n"
     ]
    }
   ],
   "source": [
    "\n",
    "import numpy as np\n",
    "import networkx as nx\n",
    "import pickle\n",
    "\n",
    "# synthetic opinions\n",
    "N = 50\n",
    "l = 3  #topics\n",
    "np.random.seed(42)\n",
    "A_initial = np.random.uniform(-1, 1, (N, l))\n",
    "lambda_val = 0.5\n",
    "\n",
    "#similarity-based graph\n",
    "prob_matrix = np.zeros((N, N))\n",
    "for i in range(N):\n",
    "    for j in range(i + 1, N):\n",
    "        dist = np.linalg.norm(A_initial[i] - A_initial[j])**2\n",
    "        prob_matrix[i, j] = np.exp(-dist / (4 * lambda_val))\n",
    "        prob_matrix[j, i] = prob_matrix[i, j]\n",
    "\n",
    "G = nx.Graph()\n",
    "G.add_nodes_from(range(N))\n",
    "rng = np.random.default_rng(42)\n",
    "for i in range(N):\n",
    "    for j in range(i + 1, N):\n",
    "        if rng.random() < prob_matrix[i, j]:\n",
    "            G.add_edge(i, j)\n",
    "\n",
    "#synthetic opinion vector in each node\n",
    "for i in range(N):\n",
    "    G.nodes[i][\"initial_opinion\"] = A_initial[i]\n",
    "\n",
    "\n",
    "with open(\"fixed_graph_arbitrary.pkl\", \"wb\") as f:\n",
    "    pickle.dump(G, f)\n",
    "\n",
    "#save node-opinion mapping\n",
    "import pandas as pd\n",
    "node_info = pd.DataFrame({\n",
    "    \"node_id\": list(G.nodes),\n",
    "    \"initial_affirm\": [G.nodes[n][\"initial_opinion\"][0] for n in G.nodes],\n",
    "    \"initial_gunlaw\": [G.nodes[n][\"initial_opinion\"][1] for n in G.nodes],\n",
    "    \"initial_party\": [G.nodes[n][\"initial_opinion\"][2] for n in G.nodes],\n",
    "})\n",
    "node_info.to_csv(\"[DIRECTORY]/arbitrary_node_opinions.csv\", index=False)\n",
    "print(\"Saved fixed arbitrary graph and initial opinions.\")\n"
   ]
  }
 ],
 "metadata": {
  "kernelspec": {
   "display_name": "Python 3 (ipykernel)",
   "language": "python",
   "name": "python3"
  },
  "language_info": {
   "codemirror_mode": {
    "name": "ipython",
    "version": 3
   },
   "file_extension": ".py",
   "mimetype": "text/x-python",
   "name": "python",
   "nbconvert_exporter": "python",
   "pygments_lexer": "ipython3",
   "version": "3.9.7"
  }
 },
 "nbformat": 4,
 "nbformat_minor": 5
}
